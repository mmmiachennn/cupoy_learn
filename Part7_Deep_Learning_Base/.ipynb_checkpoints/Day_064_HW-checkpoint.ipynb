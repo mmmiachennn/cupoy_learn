{
 "cells": [
  {
   "cell_type": "markdown",
   "metadata": {},
   "source": [
    "# 作業\n",
    "* 選擇迴歸資料集(右) - 交錯六群，在其他參數保持預設值的情況下，只允許調整隱藏層層數與神經元數量，且遵守下列限制   \n",
    "> * 隱藏層神經元總數最多 8 個 (即 : 可以單層 8 個，或兩層 5 個與 3 個)   \n",
    "> * 遞迴次數只允許跑到500次  \n",
    "* 在上述限制下，挑戰看看測試誤差 (Test Loss) 最低能到多少? 請回答你的神經元參數與 Test Loss 數"
   ]
  },
  {
   "cell_type": "markdown",
   "metadata": {},
   "source": [
    "- one hidden layer and eight neurons -> loss: train, 0.043\n",
    "- two hidden layers and each of them have four neurons -> loss: test, 0.043\n",
    "- two hidden layers and first have six neurons and second have two neurons -> loss: test, 0.043\n",
    "- two hidden layers and first have two neurons and second have six neurons -> loss: test, 0.043\n",
    "- two hidden layers and first have seven neurons and second have one neurons -> loss: test, 0.043\n",
    "- two hidden layers and first have one neurons and second have seven neurons -> loss: test, 0.043\n",
    "- two hidden layers and first have five neurons and second have three neurons -> loss: test, 0.043\n",
    "- two hidden layers and first have three neurons and second have five neurons -> loss: test, 0.043\n",
    "- three hidden layers and first and second have three neurons and third have two -> loss: test, 0.043 <br>\n",
    "\n",
    "<!-- ...<br -->\n",
    "\n",
    "大多數組合在epoch500內都會收斂到loss, 0.043.少數留在0.044。\n"
   ]
  }
 ],
 "metadata": {
  "kernelspec": {
   "display_name": "Python 3",
   "language": "python",
   "name": "python3"
  },
  "language_info": {
   "codemirror_mode": {
    "name": "ipython",
    "version": 3
   },
   "file_extension": ".py",
   "mimetype": "text/x-python",
   "name": "python",
   "nbconvert_exporter": "python",
   "pygments_lexer": "ipython3",
   "version": "3.8.8"
  }
 },
 "nbformat": 4,
 "nbformat_minor": 4
}
