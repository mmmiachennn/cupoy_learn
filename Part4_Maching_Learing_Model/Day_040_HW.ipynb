{
 "cells": [
  {
   "cell_type": "markdown",
   "metadata": {},
   "source": [
    "## [作業重點]\n",
    "使用 Sklearn 中的 Lasso, Ridge 模型，來訓練各種資料集，務必了解送進去模型訓練的**資料型態**為何，也請了解模型中各項參數的意義。\n",
    "\n",
    "機器學習的模型非常多種，但要訓練的資料多半有固定的格式，確保你了解訓練資料的格式為何，這樣在應用新模型時，就能夠最快的上手開始訓練！"
   ]
  },
  {
   "cell_type": "markdown",
   "metadata": {},
   "source": [
    "## 練習時間\n",
    "試著使用 sklearn datasets 的其他資料集 (boston, ...)，來訓練自己的線性迴歸模型，並加上適當的正則化來觀察訓練情形。"
   ]
  },
  {
   "cell_type": "code",
   "execution_count": 1,
   "metadata": {},
   "outputs": [],
   "source": [
    "import numpy as np\n",
    "import matplotlib.pyplot as plt\n",
    "from sklearn import datasets, linear_model\n",
    "from sklearn.model_selection import train_test_split\n",
    "from sklearn.metrics import mean_squared_error, r2_score"
   ]
  },
  {
   "cell_type": "code",
   "execution_count": 26,
   "metadata": {},
   "outputs": [],
   "source": [
    "# 讀取糖尿病資料集\n",
    "boston = datasets.load_boston()\n",
    "\n",
    "# 切分訓練集/測試集\n",
    "x_train, x_test, y_train, y_test = train_test_split(boston.data, boston.target, test_size=0.2, random_state=4)"
   ]
  },
  {
   "cell_type": "markdown",
   "metadata": {},
   "source": [
    "## Linear Regression"
   ]
  },
  {
   "cell_type": "code",
   "execution_count": 27,
   "metadata": {},
   "outputs": [],
   "source": [
    "# 建立一個線性回歸模型\n",
    "regr = linear_model.LinearRegression()\n",
    "\n",
    "# 將訓練資料丟進去模型訓練\n",
    "regr.fit(x_train, y_train)\n",
    "\n",
    "# 將測試資料丟進模型得到預測結果\n",
    "y_pred = regr.predict(x_test)"
   ]
  },
  {
   "cell_type": "code",
   "execution_count": 28,
   "metadata": {},
   "outputs": [
    {
     "name": "stdout",
     "output_type": "stream",
     "text": [
      "[-1.15966452e-01  4.71249231e-02  8.25980146e-03  3.23404531e+00\n",
      " -1.66865890e+01  3.88410651e+00 -1.08974442e-02 -1.54129540e+00\n",
      "  2.93208309e-01 -1.34059383e-02 -9.06296429e-01  8.80823439e-03\n",
      " -4.57723846e-01]\n",
      "Mean squared error: 25.42\n"
     ]
    }
   ],
   "source": [
    "print(regr.coef_)\n",
    "# 預測值與實際值的差距，使用 MSE\n",
    "print(\"Mean squared error: %.2f\"\n",
    "      % mean_squared_error(y_test, y_pred))"
   ]
  },
  {
   "cell_type": "code",
   "execution_count": null,
   "metadata": {},
   "outputs": [],
   "source": []
  },
  {
   "cell_type": "markdown",
   "metadata": {},
   "source": [
    "## Lasso Regression"
   ]
  },
  {
   "cell_type": "code",
   "execution_count": 5,
   "metadata": {},
   "outputs": [],
   "source": [
    "# 建立一個線性回歸模型\n",
    "lasso = linear_model.Lasso(alpha=1.0)\n",
    "\n",
    "# 將訓練資料丟進去模型訓練\n",
    "lasso.fit(x_train, y_train)\n",
    "\n",
    "# 將測試資料丟進模型得到預測結果\n",
    "y_pred = lasso.predict(x_test)"
   ]
  },
  {
   "cell_type": "code",
   "execution_count": 6,
   "metadata": {},
   "outputs": [
    {
     "name": "stdout",
     "output_type": "stream",
     "text": [
      "[-0.06494981  0.04581458 -0.          0.         -0.          1.18140024\n",
      "  0.01109101 -0.73695809  0.23350042 -0.01551065 -0.69270805  0.00763157\n",
      " -0.6927848 ]\n",
      "Mean squared error: 28.95\n"
     ]
    }
   ],
   "source": [
    "print(lasso.coef_)\n",
    "# 預測值與實際值的差距，使用 MSE\n",
    "print(\"Mean squared error: %.2f\"\n",
    "      % mean_squared_error(y_test, y_pred))"
   ]
  },
  {
   "cell_type": "code",
   "execution_count": 7,
   "metadata": {},
   "outputs": [],
   "source": [
    "# 建立一個線性回歸模型\n",
    "lasso = linear_model.Lasso(alpha=0.01)\n",
    "\n",
    "# 將訓練資料丟進去模型訓練\n",
    "lasso.fit(x_train, y_train)\n",
    "\n",
    "# 將測試資料丟進模型得到預測結果\n",
    "y_pred = lasso.predict(x_test)"
   ]
  },
  {
   "cell_type": "code",
   "execution_count": 8,
   "metadata": {},
   "outputs": [
    {
     "name": "stdout",
     "output_type": "stream",
     "text": [
      "[-1.14191538e-01  4.74478726e-02 -4.28228389e-03  2.99469488e+00\n",
      " -1.34263024e+01  3.89473335e+00 -1.33872007e-02 -1.48751294e+00\n",
      "  2.85627378e-01 -1.36705572e-02 -8.73410687e-01  8.96663130e-03\n",
      " -4.63101674e-01]\n",
      "Mean squared error: 25.48\n"
     ]
    }
   ],
   "source": [
    "print(lasso.coef_)\n",
    "# 預測值與實際值的差距，使用 MSE\n",
    "print(\"Mean squared error: %.2f\"\n",
    "      % mean_squared_error(y_test, y_pred))"
   ]
  },
  {
   "cell_type": "code",
   "execution_count": 9,
   "metadata": {},
   "outputs": [],
   "source": [
    "# 建立一個線性回歸模型\n",
    "lasso = linear_model.Lasso(alpha=0.000001)\n",
    "\n",
    "# 將訓練資料丟進去模型訓練\n",
    "lasso.fit(x_train, y_train)\n",
    "\n",
    "# 將測試資料丟進模型得到預測結果\n",
    "y_pred = lasso.predict(x_test)"
   ]
  },
  {
   "cell_type": "code",
   "execution_count": 10,
   "metadata": {},
   "outputs": [
    {
     "name": "stdout",
     "output_type": "stream",
     "text": [
      "[-1.15966277e-01  4.71249504e-02  8.25836753e-03  3.23402165e+00\n",
      " -1.66862601e+01  3.88410748e+00 -1.08976928e-02 -1.54129013e+00\n",
      "  2.93207493e-01 -1.34059595e-02 -9.06293094e-01  8.80824985e-03\n",
      " -4.57724375e-01]\n",
      "Mean squared error: 25.42\n"
     ]
    }
   ],
   "source": [
    "print(lasso.coef_)\n",
    "# 預測值與實際值的差距，使用 MSE\n",
    "print(\"Mean squared error: %.2f\"\n",
    "      % mean_squared_error(y_test, y_pred))"
   ]
  },
  {
   "cell_type": "markdown",
   "metadata": {},
   "source": [
    "## Ridge Regression"
   ]
  },
  {
   "cell_type": "code",
   "execution_count": 11,
   "metadata": {},
   "outputs": [],
   "source": [
    "# 建立一個線性回歸模型\n",
    "ridge = linear_model.Ridge(alpha=1.0)\n",
    "\n",
    "# 將訓練資料丟進去模型訓練\n",
    "ridge.fit(x_train, y_train)\n",
    "\n",
    "# 將測試資料丟進模型得到預測結果\n",
    "y_pred = ridge.predict(x_test)"
   ]
  },
  {
   "cell_type": "code",
   "execution_count": 12,
   "metadata": {},
   "outputs": [
    {
     "name": "stdout",
     "output_type": "stream",
     "text": [
      "[-1.12499445e-01  4.79562332e-02 -2.40438147e-02  2.96199458e+00\n",
      " -9.33966118e+00  3.93079015e+00 -1.73821202e-02 -1.43347691e+00\n",
      "  2.75239392e-01 -1.38920708e-02 -8.31116943e-01  9.15637729e-03\n",
      " -4.66460539e-01]\n",
      "Mean squared error: 25.74\n"
     ]
    }
   ],
   "source": [
    "print(ridge.coef_)\n",
    "# 預測值與實際值的差距，使用 MSE\n",
    "print(\"Mean squared error: %.2f\"\n",
    "      % mean_squared_error(y_test, y_pred))"
   ]
  },
  {
   "cell_type": "code",
   "execution_count": 13,
   "metadata": {},
   "outputs": [],
   "source": [
    "# 建立一個線性回歸模型\n",
    "ridge = linear_model.Ridge(alpha=0.001)\n",
    "\n",
    "# 將訓練資料丟進去模型訓練\n",
    "ridge.fit(x_train, y_train)\n",
    "\n",
    "# 將測試資料丟進模型得到預測結果\n",
    "y_pred = ridge.predict(x_test)"
   ]
  },
  {
   "cell_type": "code",
   "execution_count": 14,
   "metadata": {},
   "outputs": [
    {
     "name": "stdout",
     "output_type": "stream",
     "text": [
      "[-1.15960132e-01  4.71262897e-02  8.20171162e-03  3.23364907e+00\n",
      " -1.66734950e+01  3.88421438e+00 -1.09092931e-02 -1.54110345e+00\n",
      "  2.93175046e-01 -1.34067489e-02 -9.06160263e-01  8.80885688e-03\n",
      " -4.57737192e-01]\n",
      "Mean squared error: 25.42\n"
     ]
    }
   ],
   "source": [
    "print(ridge.coef_)\n",
    "# 預測值與實際值的差距，使用 MSE\n",
    "print(\"Mean squared error: %.2f\"\n",
    "      % mean_squared_error(y_test, y_pred))"
   ]
  },
  {
   "cell_type": "markdown",
   "metadata": {},
   "source": [
    "------------------------------------------"
   ]
  },
  {
   "cell_type": "code",
   "execution_count": 15,
   "metadata": {},
   "outputs": [],
   "source": [
    "# 讀取糖尿病資料集\n",
    "digits = datasets.load_digits()\n",
    "\n",
    "# 切分訓練集/測試集\n",
    "x_train, x_test, y_train, y_test = train_test_split(digits.data, digits.target, test_size=0.2, random_state=4)"
   ]
  },
  {
   "cell_type": "markdown",
   "metadata": {},
   "source": [
    "## Linear Regression"
   ]
  },
  {
   "cell_type": "code",
   "execution_count": 16,
   "metadata": {},
   "outputs": [],
   "source": [
    "# 建立一個線性回歸模型\n",
    "regr = linear_model.LinearRegression()\n",
    "\n",
    "# 將訓練資料丟進去模型訓練\n",
    "regr.fit(x_train, y_train)\n",
    "\n",
    "# 將測試資料丟進模型得到預測結果\n",
    "y_pred = regr.predict(x_test)"
   ]
  },
  {
   "cell_type": "code",
   "execution_count": 17,
   "metadata": {},
   "outputs": [
    {
     "name": "stdout",
     "output_type": "stream",
     "text": [
      "[ 5.73460642e-16  4.65789486e-02  4.31745326e-03 -3.60223234e-02\n",
      "  6.40454046e-02  1.83206202e-06 -3.66561937e-02  9.72983103e-03\n",
      "  1.67203223e+00 -2.66623887e-02  9.96132972e-02  4.71578005e-02\n",
      " -6.61582869e-02 -7.29523817e-02  8.12044540e-02  2.21937113e-01\n",
      " -7.07325612e-01  1.19451833e-02  8.73667894e-02 -3.25832990e-02\n",
      " -6.02376725e-02  4.10101349e-02 -5.21095942e-02 -2.32634120e-01\n",
      " -2.09558250e+00 -1.60168936e-01  3.31033310e-02  8.54088046e-02\n",
      "  6.49129744e-02  1.03063186e-01 -3.10979069e-02 -2.80395200e+00\n",
      " -6.25888230e-14 -1.42619106e-01 -2.62876723e-02  1.39148883e-01\n",
      " -5.40767568e-02  4.75176384e-02 -1.28245885e-02  2.35367281e-14\n",
      "  8.08918229e-02  1.00129139e-01 -1.08831278e-02 -1.18748523e-02\n",
      "  1.14496425e-01  4.95294918e-02  3.50485686e-03  8.23174580e-02\n",
      "  6.62030678e-01  4.32899631e-02 -5.86191298e-03 -6.74816420e-02\n",
      " -2.14162876e-01 -4.16695425e-02  1.00069341e-01 -1.47857070e-01\n",
      "  9.99200722e-16 -1.18570848e-01  1.10849520e-02 -4.96527668e-02\n",
      " -1.32338206e-03 -8.21995663e-02 -7.63742222e-04 -4.85690722e-02]\n",
      "Mean squared error: 3.45\n"
     ]
    }
   ],
   "source": [
    "print(regr.coef_)\n",
    "# 預測值與實際值的差距，使用 MSE\n",
    "print(\"Mean squared error: %.2f\"\n",
    "      % mean_squared_error(y_test, y_pred))"
   ]
  },
  {
   "cell_type": "markdown",
   "metadata": {},
   "source": [
    "## Lasso Regression"
   ]
  },
  {
   "cell_type": "code",
   "execution_count": 18,
   "metadata": {},
   "outputs": [],
   "source": [
    "# 建立一個線性回歸模型\n",
    "lasso = linear_model.Lasso(alpha=1.0)\n",
    "\n",
    "# 將訓練資料丟進去模型訓練\n",
    "lasso.fit(x_train, y_train)\n",
    "\n",
    "# 將測試資料丟進模型得到預測結果\n",
    "y_pred = lasso.predict(x_test)"
   ]
  },
  {
   "cell_type": "code",
   "execution_count": 19,
   "metadata": {},
   "outputs": [
    {
     "name": "stdout",
     "output_type": "stream",
     "text": [
      "[ 0.         -0.          0.         -0.          0.          0.01620188\n",
      "  0.          0.          0.          0.          0.02701602 -0.\n",
      " -0.0494001   0.          0.01209412  0.         -0.         -0.\n",
      "  0.05133073 -0.         -0.03387848  0.          0.         -0.\n",
      " -0.         -0.00918397  0.          0.07676595  0.0414043   0.07642159\n",
      " -0.         -0.          0.         -0.04530788 -0.          0.08611586\n",
      "  0.          0.03368927 -0.          0.          0.         -0.\n",
      " -0.          0.          0.01728792  0.          0.         -0.\n",
      "  0.          0.         -0.         -0.03287645 -0.15996399 -0.027051\n",
      "  0.         -0.          0.         -0.          0.         -0.\n",
      " -0.         -0.01250677 -0.         -0.        ]\n",
      "Mean squared error: 4.43\n"
     ]
    }
   ],
   "source": [
    "print(lasso.coef_)\n",
    "# 預測值與實際值的差距，使用 MSE\n",
    "print(\"Mean squared error: %.2f\"\n",
    "      % mean_squared_error(y_test, y_pred))"
   ]
  },
  {
   "cell_type": "code",
   "execution_count": 20,
   "metadata": {},
   "outputs": [],
   "source": [
    "# 建立一個線性回歸模型\n",
    "lasso = linear_model.Lasso(alpha=0.001)\n",
    "\n",
    "# 將訓練資料丟進去模型訓練\n",
    "lasso.fit(x_train, y_train)\n",
    "\n",
    "# 將測試資料丟進模型得到預測結果\n",
    "y_pred = lasso.predict(x_test)"
   ]
  },
  {
   "cell_type": "code",
   "execution_count": 21,
   "metadata": {},
   "outputs": [
    {
     "name": "stdout",
     "output_type": "stream",
     "text": [
      "[ 0.00000000e+00  2.71539151e-02  3.97245443e-03 -3.60044569e-02\n",
      "  6.42646574e-02 -3.99895523e-04 -3.38453594e-02  5.56294908e-03\n",
      "  1.62578648e+00 -2.27300937e-02  9.86291917e-02  4.79077465e-02\n",
      " -6.64731077e-02 -7.17003065e-02  7.88635620e-02  2.20108437e-01\n",
      " -1.07037005e+00  1.10688405e-02  8.70233171e-02 -3.33147443e-02\n",
      " -6.00764336e-02  3.99909168e-02 -4.96759142e-02 -2.58767338e-01\n",
      " -0.00000000e+00 -1.62005848e-01  3.39126802e-02  8.49692459e-02\n",
      "  6.57472426e-02  1.03004076e-01 -3.17165801e-02 -2.15274480e+00\n",
      "  0.00000000e+00 -1.40605978e-01 -2.63637223e-02  1.38390099e-01\n",
      " -5.34576430e-02  4.71110169e-02 -1.19888986e-02  0.00000000e+00\n",
      "  1.19916645e-01  9.90407616e-02 -1.07088009e-02 -1.18120131e-02\n",
      "  1.15001816e-01  4.96806918e-02  4.15080887e-03  6.61246503e-02\n",
      "  0.00000000e+00  4.57912875e-02 -5.38840642e-03 -6.80326618e-02\n",
      " -2.13692904e-01 -4.16782101e-02  9.93650252e-02 -1.44450939e-01\n",
      "  0.00000000e+00 -1.02641456e-01  1.08337391e-02 -4.89446409e-02\n",
      " -2.33844976e-03 -8.07840669e-02 -9.31245069e-04 -4.90806095e-02]\n",
      "Mean squared error: 3.48\n"
     ]
    }
   ],
   "source": [
    "print(lasso.coef_)\n",
    "# 預測值與實際值的差距，使用 MSE\n",
    "print(\"Mean squared error: %.2f\"\n",
    "      % mean_squared_error(y_test, y_pred))"
   ]
  },
  {
   "cell_type": "markdown",
   "metadata": {},
   "source": [
    "## Ridge Regression"
   ]
  },
  {
   "cell_type": "code",
   "execution_count": 22,
   "metadata": {},
   "outputs": [],
   "source": [
    "# 建立一個線性回歸模型\n",
    "ridge = linear_model.Ridge(alpha=1.0)\n",
    "\n",
    "# 將訓練資料丟進去模型訓練\n",
    "ridge.fit(x_train, y_train)\n",
    "\n",
    "# 將測試資料丟進模型得到預測結果\n",
    "y_pred = ridge.predict(x_test)"
   ]
  },
  {
   "cell_type": "code",
   "execution_count": 23,
   "metadata": {},
   "outputs": [
    {
     "name": "stdout",
     "output_type": "stream",
     "text": [
      "[ 0.00000000e+00  4.13480612e-02  4.13535791e-03 -3.56250892e-02\n",
      "  6.40593016e-02 -1.27831402e-04 -3.42757670e-02  2.98794317e-03\n",
      "  1.57185891e+00 -2.46515417e-02  9.91618494e-02  4.79545629e-02\n",
      " -6.64635359e-02 -7.20695939e-02  7.87962762e-02  2.28574200e-01\n",
      " -8.93018640e-01  1.21069467e-02  8.69212294e-02 -3.32582114e-02\n",
      " -5.98470608e-02  4.00884574e-02 -4.91882691e-02 -2.86747775e-01\n",
      " -8.40857282e-01 -1.62029015e-01  3.36704606e-02  8.50388703e-02\n",
      "  6.53355680e-02  1.02852239e-01 -3.13952337e-02 -1.89625689e+00\n",
      "  0.00000000e+00 -1.41435706e-01 -2.65029387e-02  1.39134024e-01\n",
      " -5.40799710e-02  4.74750950e-02 -1.24835789e-02  0.00000000e+00\n",
      "  1.20587110e-01  9.94853201e-02 -1.06408509e-02 -1.21341171e-02\n",
      "  1.15158424e-01  4.97926624e-02  3.64172728e-03  8.23154163e-02\n",
      "  3.73490439e-01  4.42111497e-02 -5.59124645e-03 -6.80447080e-02\n",
      " -2.13755076e-01 -4.18913763e-02  1.00051262e-01 -1.47937899e-01\n",
      "  0.00000000e+00 -1.15781895e-01  1.09235275e-02 -4.97840139e-02\n",
      " -1.75104469e-03 -8.13402644e-02 -1.13752475e-03 -4.84402978e-02]\n",
      "Mean squared error: 3.44\n"
     ]
    }
   ],
   "source": [
    "print(ridge.coef_)\n",
    "# 預測值與實際值的差距，使用 MSE\n",
    "print(\"Mean squared error: %.2f\"\n",
    "      % mean_squared_error(y_test, y_pred))"
   ]
  },
  {
   "cell_type": "code",
   "execution_count": 24,
   "metadata": {},
   "outputs": [],
   "source": [
    "# 建立一個線性回歸模型\n",
    "ridge = linear_model.Ridge(alpha=0.0001)\n",
    "\n",
    "# 將訓練資料丟進去模型訓練\n",
    "ridge.fit(x_train, y_train)\n",
    "\n",
    "# 將測試資料丟進模型得到預測結果\n",
    "y_pred = ridge.predict(x_test)"
   ]
  },
  {
   "cell_type": "code",
   "execution_count": 25,
   "metadata": {},
   "outputs": [
    {
     "name": "stdout",
     "output_type": "stream",
     "text": [
      "[ 0.00000000e+00  4.65780771e-02  4.31750353e-03 -3.60223042e-02\n",
      "  6.40454546e-02  1.79308826e-06 -3.66558246e-02  9.72879264e-03\n",
      "  1.67205156e+00 -2.66621754e-02  9.96132238e-02  4.71579817e-02\n",
      " -6.61583179e-02 -7.29522491e-02  8.12040836e-02  2.21938133e-01\n",
      " -7.07466658e-01  1.19453035e-02  8.73666949e-02 -3.25834405e-02\n",
      " -6.02376442e-02  4.10099870e-02 -5.21091171e-02 -2.32642316e-01\n",
      " -2.09508102e+00 -1.60169424e-01  3.31034575e-02  8.54086701e-02\n",
      "  6.49131677e-02  1.03063083e-01 -3.10979129e-02 -2.80381684e+00\n",
      "  0.00000000e+00 -1.42618832e-01 -2.62876693e-02  1.39148831e-01\n",
      " -5.40767968e-02  4.75176476e-02 -1.28245238e-02  0.00000000e+00\n",
      "  8.08999830e-02  1.00128978e-01 -1.08831044e-02 -1.18748745e-02\n",
      "  1.14496566e-01  4.95295254e-02  3.50487410e-03  8.23178870e-02\n",
      "  6.61976266e-01  4.32902243e-02 -5.86191620e-03 -6.74817572e-02\n",
      " -2.14162799e-01 -4.16695416e-02  1.00069331e-01 -1.47857474e-01\n",
      "  0.00000000e+00 -1.18570398e-01  1.10848923e-02 -4.96527342e-02\n",
      " -1.32353205e-03 -8.21993288e-02 -7.63755661e-04 -4.85689779e-02]\n",
      "Mean squared error: 3.45\n"
     ]
    }
   ],
   "source": [
    "print(ridge.coef_)\n",
    "# 預測值與實際值的差距，使用 MSE\n",
    "print(\"Mean squared error: %.2f\"\n",
    "      % mean_squared_error(y_test, y_pred))"
   ]
  }
 ],
 "metadata": {
  "kernelspec": {
   "display_name": "Python 3",
   "language": "python",
   "name": "python3"
  },
  "language_info": {
   "codemirror_mode": {
    "name": "ipython",
    "version": 3
   },
   "file_extension": ".py",
   "mimetype": "text/x-python",
   "name": "python",
   "nbconvert_exporter": "python",
   "pygments_lexer": "ipython3",
   "version": "3.7.1"
  }
 },
 "nbformat": 4,
 "nbformat_minor": 2
}
